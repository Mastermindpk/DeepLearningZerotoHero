{
 "cells": [
  {
   "cell_type": "code",
   "execution_count": 1,
   "metadata": {},
   "outputs": [
    {
     "name": "stdout",
     "output_type": "stream",
     "text": [
      "check out my shades babe 2.4.3\n"
     ]
    }
   ],
   "source": [
    "import keras\n",
    "print(\"check out my shades babe\", keras.__version__)"
   ]
  },
  {
   "cell_type": "code",
   "execution_count": 2,
   "metadata": {},
   "outputs": [
    {
     "name": "stderr",
     "output_type": "stream",
     "text": [
      "c:\\users\\m shafay amjad\\appdata\\local\\programs\\python\\python37\\lib\\site-packages\\tensorflow\\python\\keras\\datasets\\imdb.py:155: VisibleDeprecationWarning: Creating an ndarray from ragged nested sequences (which is a list-or-tuple of lists-or-tuples-or ndarrays with different lengths or shapes) is deprecated. If you meant to do this, you must specify 'dtype=object' when creating the ndarray\n",
      "  x_train, y_train = np.array(xs[:idx]), np.array(labels[:idx])\n",
      "c:\\users\\m shafay amjad\\appdata\\local\\programs\\python\\python37\\lib\\site-packages\\tensorflow\\python\\keras\\datasets\\imdb.py:156: VisibleDeprecationWarning: Creating an ndarray from ragged nested sequences (which is a list-or-tuple of lists-or-tuples-or ndarrays with different lengths or shapes) is deprecated. If you meant to do this, you must specify 'dtype=object' when creating the ndarray\n",
      "  x_test, y_test = np.array(xs[idx:]), np.array(labels[idx:])\n"
     ]
    }
   ],
   "source": [
    "from keras.datasets import imdb\n",
    "import numpy as np\n",
    "\n",
    "(train_data, train_labels), (test_data, test_labels) = imdb.load_data(num_words=10000)\n",
    "\n",
    "def vectorize_sequences(sequences, dimension=10000):\n",
    "    # Create an all-zero matrix of shape (len(sequences), dimension)\n",
    "    results = np.zeros((len(sequences), dimension))\n",
    "    for i, sequence in enumerate(sequences):\n",
    "        results[i, sequence] = 1.  # set specific indices of results[i] to 1s\n",
    "    return results\n",
    "\n",
    "# Our vectorized training data\n",
    "x_train = vectorize_sequences(train_data)\n",
    "# Our vectorized test data\n",
    "x_test = vectorize_sequences(test_data)\n",
    "# Our vectorized labels\n",
    "y_train = np.asarray(train_labels).astype('float32')\n",
    "y_test = np.asarray(test_labels).astype('float32')"
   ]
  },
  {
   "cell_type": "markdown",
   "metadata": {},
   "source": [
    "#### Fighting overfitting\n",
    "\n",
    "* Reducing the network size \n",
    "* Adding Weight Regulizations (such as L2 or L1)\n",
    "* Adding DropOut\n",
    "\n",
    "\n",
    "The things that I know so far.\n"
   ]
  },
  {
   "cell_type": "code",
   "execution_count": 3,
   "metadata": {},
   "outputs": [],
   "source": [
    "from keras import models\n",
    "from keras import layers\n",
    "\n",
    "original_model = models.Sequential()\n",
    "original_model.add(layers.Dense(16, activation='relu', input_shape=(10000,)))\n",
    "original_model.add(layers.Dense(16, activation='relu'))\n",
    "original_model.add(layers.Dense(1, activation='sigmoid'))\n",
    "\n",
    "original_model.compile(optimizer='rmsprop',\n",
    "                       loss='binary_crossentropy',\n",
    "                       metrics=['acc'])\n",
    "\n",
    "\n",
    "# Smaller Network \n",
    "smaller_model = models.Sequential()\n",
    "smaller_model.add(layers.Dense(4, activation='relu', input_shape=(10000,)))\n",
    "smaller_model.add(layers.Dense(4, activation='relu'))\n",
    "smaller_model.add(layers.Dense(1, activation='sigmoid'))\n",
    "\n",
    "smaller_model.compile(optimizer='rmsprop',\n",
    "                      loss='binary_crossentropy',\n",
    "                      metrics=['acc'])"
   ]
  },
  {
   "cell_type": "code",
   "execution_count": 4,
   "metadata": {},
   "outputs": [
    {
     "name": "stdout",
     "output_type": "stream",
     "text": [
      "Epoch 1/10\n",
      "49/49 [==============================] - 2s 46ms/step - loss: 0.4433 - acc: 0.8242 - val_loss: 0.3277 - val_acc: 0.8808\n",
      "Epoch 2/10\n",
      "49/49 [==============================] - 2s 37ms/step - loss: 0.2541 - acc: 0.9119 - val_loss: 0.3462 - val_acc: 0.8558\n",
      "Epoch 3/10\n",
      "49/49 [==============================] - 2s 40ms/step - loss: 0.2004 - acc: 0.9272 - val_loss: 0.2942 - val_acc: 0.8814\n",
      "Epoch 4/10\n",
      "49/49 [==============================] - 2s 49ms/step - loss: 0.1675 - acc: 0.9416 - val_loss: 0.2939 - val_acc: 0.8838\n",
      "Epoch 5/10\n",
      "49/49 [==============================] - 2s 40ms/step - loss: 0.1463 - acc: 0.9488 - val_loss: 0.3185 - val_acc: 0.8790\n",
      "Epoch 6/10\n",
      "49/49 [==============================] - 2s 38ms/step - loss: 0.1291 - acc: 0.9538 - val_loss: 0.3535 - val_acc: 0.8727\n",
      "Epoch 7/10\n",
      "49/49 [==============================] - 2s 37ms/step - loss: 0.1144 - acc: 0.9602 - val_loss: 0.3714 - val_acc: 0.8703\n",
      "Epoch 8/10\n",
      "49/49 [==============================] - 2s 38ms/step - loss: 0.0997 - acc: 0.9662 - val_loss: 0.4127 - val_acc: 0.8659\n",
      "Epoch 9/10\n",
      "49/49 [==============================] - 2s 38ms/step - loss: 0.0925 - acc: 0.9686 - val_loss: 0.4306 - val_acc: 0.8602\n",
      "Epoch 10/10\n",
      "49/49 [==============================] - 5s 99ms/step - loss: 0.0829 - acc: 0.9720 - val_loss: 0.4346 - val_acc: 0.8627\n",
      "seconds :  24.348999977111816\n"
     ]
    }
   ],
   "source": [
    "import time\n",
    "curr = time.time()\n",
    "original_hist = original_model.fit(x_train, y_train,\n",
    "                                   epochs=10,\n",
    "                                   batch_size=512,\n",
    "                                   validation_data=(x_test, y_test))\n",
    "print(\"seconds : \", time.time()- curr)\n",
    "# curr = time.time()\n",
    "# smaller_model_hist = smaller_model.fit(x_train, y_train,\n",
    "#                                        epochs=20,\n",
    "#                                        batch_size=512,\n",
    "#                                        validation_data=(x_test, y_test))\n",
    "# print(\"seconds : \", time.time() - curr)"
   ]
  },
  {
   "cell_type": "markdown",
   "metadata": {},
   "source": [
    "#### Smaller vs original Network"
   ]
  },
  {
   "cell_type": "code",
   "execution_count": 7,
   "metadata": {},
   "outputs": [
    {
     "name": "stdout",
     "output_type": "stream",
     "text": [
      "Epoch 1/10\n",
      "49/49 [==============================] - 2s 35ms/step - loss: 0.3023 - acc: 0.9666 - val_loss: 0.4692 - val_acc: 0.8651\n",
      "Epoch 2/10\n",
      "49/49 [==============================] - 2s 35ms/step - loss: 0.2879 - acc: 0.9703 - val_loss: 0.5146 - val_acc: 0.8560\n",
      "Epoch 3/10\n",
      "49/49 [==============================] - 2s 37ms/step - loss: 0.2737 - acc: 0.9746 - val_loss: 0.4794 - val_acc: 0.8636\n",
      "Epoch 4/10\n",
      "49/49 [==============================] - 2s 37ms/step - loss: 0.2606 - acc: 0.9768 - val_loss: 0.5804 - val_acc: 0.8503\n",
      "Epoch 5/10\n",
      "49/49 [==============================] - 4s 91ms/step - loss: 0.2494 - acc: 0.9789 - val_loss: 0.5837 - val_acc: 0.8526\n",
      "Epoch 6/10\n",
      "49/49 [==============================] - 2s 42ms/step - loss: 0.2384 - acc: 0.9810 - val_loss: 0.5533 - val_acc: 0.8542\n",
      "Epoch 7/10\n",
      "49/49 [==============================] - 2s 38ms/step - loss: 0.2270 - acc: 0.9826 - val_loss: 0.5746 - val_acc: 0.8552\n",
      "Epoch 8/10\n",
      "49/49 [==============================] - 2s 40ms/step - loss: 0.2176 - acc: 0.9836 - val_loss: 0.6970 - val_acc: 0.8454\n",
      "Epoch 9/10\n",
      "49/49 [==============================] - 2s 42ms/step - loss: 0.2083 - acc: 0.9846 - val_loss: 0.7220 - val_acc: 0.8456\n",
      "Epoch 10/10\n",
      "49/49 [==============================] - 2s 50ms/step - loss: 0.2000 - acc: 0.9852 - val_loss: 0.7100 - val_acc: 0.8488\n",
      "seconds :  22.888004064559937\n"
     ]
    }
   ],
   "source": [
    "curr = time.time()\n",
    "smaller_model_hist = smaller_model.fit(x_train, y_train,\n",
    "                                       epochs=10,\n",
    "                                       batch_size=512,\n",
    "                                       validation_data=(x_test, y_test))\n",
    "print(\"seconds : \", time.time() - curr)"
   ]
  },
  {
   "cell_type": "code",
   "execution_count": 10,
   "metadata": {},
   "outputs": [],
   "source": [
    "epochs = range(1, 11)\n",
    "original_val_loss = original_hist.history['val_loss']\n",
    "smaller_model_val_loss = smaller_model_hist.history['val_loss']"
   ]
  },
  {
   "cell_type": "code",
   "execution_count": 11,
   "metadata": {},
   "outputs": [
    {
     "data": {
      "image/png": "[encoded data removed]",
      "text/plain": [
       "<Figure size 432x288 with 1 Axes>"
      ]
     },
     "metadata": {
      "needs_background": "light"
     },
     "output_type": "display_data"
    }
   ],
   "source": [
    "import matplotlib.pyplot as plt\n",
    "\n",
    "# b+ is for \"blue cross\"\n",
    "plt.plot(epochs, original_val_loss, 'b+', label='Original model')\n",
    "# \"bo\" is for \"blue dot\"\n",
    "plt.plot(epochs, smaller_model_val_loss, 'bo', label='Smaller model')\n",
    "plt.xlabel('Epochs')\n",
    "plt.ylabel('Validation loss')\n",
    "plt.legend()\n",
    "\n",
    "plt.show()\n"
   ]
  },
  {
   "cell_type": "raw",
   "metadata": {},
   "source": [
    "As you can see, the smaller network starts overfitting later than the reference one (after 6 epochs rather than 4) and its performance degrades much more slowly once it starts overfitting.\n",
    "\n",
    "Now, for kicks, let's add to this benchmark a network that has much more capacity, far more than the problem would warrant:\n"
   ]
  },
  {
   "cell_type": "code",
   "execution_count": 12,
   "metadata": {},
   "outputs": [],
   "source": [
    "bigger_model = models.Sequential()\n",
    "bigger_model.add(layers.Dense(512, activation='relu', input_shape=(10000,)))\n",
    "bigger_model.add(layers.Dense(512, activation='relu'))\n",
    "bigger_model.add(layers.Dense(1, activation='sigmoid'))\n",
    "\n",
    "bigger_model.compile(optimizer='rmsprop',\n",
    "                     loss='binary_crossentropy',\n",
    "                     metrics=['acc'])"
   ]
  },
  {
   "cell_type": "code",
   "execution_count": 13,
   "metadata": {},
   "outputs": [
    {
     "name": "stdout",
     "output_type": "stream",
     "text": [
      "Epoch 1/10\n",
      "49/49 [==============================] - 8s 171ms/step - loss: 0.4576 - acc: 0.8065 - val_loss: 0.3294 - val_acc: 0.8605\n",
      "Epoch 2/10\n",
      "49/49 [==============================] - 8s 169ms/step - loss: 0.2226 - acc: 0.9100 - val_loss: 0.3164 - val_acc: 0.8635\n",
      "Epoch 3/10\n",
      "49/49 [==============================] - 9s 184ms/step - loss: 0.1299 - acc: 0.9508 - val_loss: 0.3480 - val_acc: 0.8812\n",
      "Epoch 4/10\n",
      "49/49 [==============================] - 9s 175ms/step - loss: 0.0698 - acc: 0.9787 - val_loss: 0.4434 - val_acc: 0.8765\n",
      "Epoch 5/10\n",
      "49/49 [==============================] - 8s 164ms/step - loss: 0.0667 - acc: 0.9874 - val_loss: 0.4660 - val_acc: 0.8824\n",
      "Epoch 6/10\n",
      "49/49 [==============================] - 10s 198ms/step - loss: 0.0032 - acc: 0.9994 - val_loss: 3.6595 - val_acc: 0.6402\n",
      "Epoch 7/10\n",
      "49/49 [==============================] - 10s 203ms/step - loss: 0.0855 - acc: 0.9875 - val_loss: 0.6489 - val_acc: 0.8818\n",
      "Epoch 8/10\n",
      "49/49 [==============================] - 8s 172ms/step - loss: 0.0841 - acc: 0.9885 - val_loss: 0.5786 - val_acc: 0.8792\n",
      "Epoch 9/10\n",
      "49/49 [==============================] - 8s 163ms/step - loss: 5.0085e-04 - acc: 1.0000 - val_loss: 0.7926 - val_acc: 0.8806\n",
      "Epoch 10/10\n",
      "49/49 [==============================] - 8s 170ms/step - loss: 0.0830 - acc: 0.9902 - val_loss: 0.7164 - val_acc: 0.8798\n"
     ]
    }
   ],
   "source": [
    "\n",
    "bigger_model_hist = bigger_model.fit(x_train, y_train,\n",
    "                                     epochs=10,\n",
    "                                     batch_size=512,\n",
    "                                     validation_data=(x_test, y_test))"
   ]
  },
  {
   "cell_type": "code",
   "execution_count": 14,
   "metadata": {},
   "outputs": [
    {
     "data": {
      "image/png": "[encoded data removed]",
      "text/plain": [
       "<Figure size 432x288 with 1 Axes>"
      ]
     },
     "metadata": {
      "needs_background": "light"
     },
     "output_type": "display_data"
    }
   ],
   "source": [
    "\n",
    "bigger_model_val_loss = bigger_model_hist.history['val_loss']\n",
    "\n",
    "plt.plot(epochs, original_val_loss, 'b+', label='Original model')\n",
    "plt.plot(epochs, bigger_model_val_loss, 'bo', label='Bigger model')\n",
    "plt.xlabel('Epochs')\n",
    "plt.ylabel('Validation loss')\n",
    "plt.legend()\n",
    "\n",
    "plt.show()"
   ]
  },
  {
   "cell_type": "markdown",
   "metadata": {},
   "source": [
    "### \n",
    "The bigger model is overfitting right away hence what to do in this situation\n",
    "lets compare the loss from both"
   ]
  },
  {
   "cell_type": "code",
   "execution_count": 15,
   "metadata": {},
   "outputs": [
    {
     "data": {
      "image/png": "[encoded data removed]",
      "text/plain": [
       "<Figure size 432x288 with 1 Axes>"
      ]
     },
     "metadata": {
      "needs_background": "light"
     },
     "output_type": "display_data"
    }
   ],
   "source": [
    "\n",
    "original_train_loss = original_hist.history['loss']\n",
    "bigger_model_train_loss = bigger_model_hist.history['loss']\n",
    "\n",
    "plt.plot(epochs, original_train_loss, 'b+', label='Original model')\n",
    "plt.plot(epochs, bigger_model_train_loss, 'bo', label='Bigger model')\n",
    "plt.xlabel('Epochs')\n",
    "plt.ylabel('Training loss')\n",
    "plt.legend()\n",
    "\n",
    "plt.show()"
   ]
  },
  {
   "cell_type": "markdown",
   "metadata": {},
   "source": [
    "\n",
    "* As you can see, the bigger network gets its training loss near zero very quickly.\n",
    "The more capacity the network has, the quicker it will be able to model the training data\n",
    "(resulting in a low training loss), but the more susceptible \n",
    "it is to overfitting (resulting in a large difference between the training and validation loss)."
   ]
  },
  {
   "cell_type": "markdown",
   "metadata": {},
   "source": [
    "### Wieght Regulization"
   ]
  },
  {
   "cell_type": "code",
   "execution_count": 18,
   "metadata": {},
   "outputs": [
    {
     "name": "stdout",
     "output_type": "stream",
     "text": [
      "Epoch 1/10\n",
      "49/49 [==============================] - 2s 46ms/step - loss: 0.4974 - acc: 0.8219 - val_loss: 0.4156 - val_acc: 0.8497\n",
      "Epoch 2/10\n",
      "49/49 [==============================] - 2s 46ms/step - loss: 0.3197 - acc: 0.9048 - val_loss: 0.3457 - val_acc: 0.8818\n",
      "Epoch 3/10\n",
      "49/49 [==============================] - 2s 44ms/step - loss: 0.2723 - acc: 0.9195 - val_loss: 0.3503 - val_acc: 0.8778\n",
      "Epoch 4/10\n",
      "49/49 [==============================] - 3s 51ms/step - loss: 0.2526 - acc: 0.9270 - val_loss: 0.3454 - val_acc: 0.8820\n",
      "Epoch 5/10\n",
      "49/49 [==============================] - 2s 39ms/step - loss: 0.2405 - acc: 0.9310 - val_loss: 0.3401 - val_acc: 0.8853\n",
      "Epoch 6/10\n",
      "49/49 [==============================] - 2s 40ms/step - loss: 0.2293 - acc: 0.9377 - val_loss: 0.3482 - val_acc: 0.8827\n",
      "Epoch 7/10\n",
      "49/49 [==============================] - 2s 41ms/step - loss: 0.2247 - acc: 0.9395 - val_loss: 0.3617 - val_acc: 0.8782\n",
      "Epoch 8/10\n",
      "49/49 [==============================] - 2s 44ms/step - loss: 0.2177 - acc: 0.9421 - val_loss: 0.3828 - val_acc: 0.8730\n",
      "Epoch 9/10\n",
      "49/49 [==============================] - 5s 97ms/step - loss: 0.2154 - acc: 0.9419 - val_loss: 0.4106 - val_acc: 0.8646\n",
      "Epoch 10/10\n",
      "49/49 [==============================] - 3s 55ms/step - loss: 0.2108 - acc: 0.9436 - val_loss: 0.3813 - val_acc: 0.8746\n"
     ]
    }
   ],
   "source": [
    "from keras import regularizers\n",
    "\n",
    "l2_model = models.Sequential()\n",
    "l2_model.add(layers.Dense(16, kernel_regularizer=regularizers.l2(0.001),\n",
    "                          activation='relu', input_shape=(10000,)))\n",
    "l2_model.add(layers.Dense(16, kernel_regularizer=regularizers.l2(0.001),\n",
    "                          activation='relu'))\n",
    "l2_model.add(layers.Dense(1, activation='sigmoid'))\n",
    "\n",
    "l2_model.compile(optimizer='rmsprop',\n",
    "                 loss='binary_crossentropy',\n",
    "                 metrics=['acc'])\n",
    "l2_model_hist = l2_model.fit(x_train, y_train,\n",
    "                             epochs=10,\n",
    "                             batch_size=512,\n",
    "                             validation_data=(x_test, y_test))"
   ]
  },
  {
   "cell_type": "code",
   "execution_count": 19,
   "metadata": {},
   "outputs": [
    {
     "data": {
      "image/png": "[encoded data removed]",
      "text/plain": [
       "<Figure size 432x288 with 1 Axes>"
      ]
     },
     "metadata": {
      "needs_background": "light"
     },
     "output_type": "display_data"
    }
   ],
   "source": [
    "l2_model_val_loss = l2_model_hist.history['val_loss']\n",
    "\n",
    "plt.plot(epochs, original_val_loss, 'b+', label='Original model')\n",
    "plt.plot(epochs, l2_model_val_loss, 'bo', label='L2-regularized model')\n",
    "plt.xlabel('Epochs')\n",
    "plt.ylabel('Validation loss')\n",
    "plt.legend()\n",
    "\n",
    "plt.show()"
   ]
  },
  {
   "cell_type": "code",
   "execution_count": 20,
   "metadata": {},
   "outputs": [
    {
     "data": {
      "text/plain": [
       "<tensorflow.python.keras.regularizers.L1L2 at 0x1e5019e0128>"
      ]
     },
     "execution_count": 20,
     "metadata": {},
     "output_type": "execute_result"
    }
   ],
   "source": [
    "\n",
    "from keras import regularizers\n",
    "\n",
    "# L1 regularization\n",
    "regularizers.l1(0.001)\n",
    "\n",
    "# L1 and L2 regularization at the same time\n",
    "regularizers.l1_l2(l1=0.001, l2=0.001)"
   ]
  },
  {
   "cell_type": "markdown",
   "metadata": {},
   "source": [
    "### Adding Dropout\n",
    "\n"
   ]
  },
  {
   "cell_type": "code",
   "execution_count": 24,
   "metadata": {},
   "outputs": [],
   "source": [
    "# At training time: we drop out 50% of the units in the output\n",
    "layer_output *= np.randint(0, high=2, size=layer_output.shape)\n",
    "# At test time:\n",
    "layer_output *= 0.5\n",
    "# At training time:\n",
    "layer_output *= np.randint(0, high=2, size=layer_output.shape)\n",
    "# Note that we are scaling *up* rather scaling *down* in this case\n",
    "layer_output /= 0.5"
   ]
  },
  {
   "cell_type": "code",
   "execution_count": 26,
   "metadata": {},
   "outputs": [],
   "source": [
    "# model.add(layers.Dropout(0.5)) A Way to add dropout layers"
   ]
  },
  {
   "cell_type": "markdown",
   "metadata": {},
   "source": [
    "### Creating a network with a dropout layer"
   ]
  },
  {
   "cell_type": "code",
   "execution_count": 27,
   "metadata": {},
   "outputs": [],
   "source": [
    "dpt_model = models.Sequential()\n",
    "dpt_model.add(layers.Dense(16, activation='relu', input_shape=(10000,)))\n",
    "dpt_model.add(layers.Dropout(0.5))\n",
    "dpt_model.add(layers.Dense(16, activation='relu'))\n",
    "dpt_model.add(layers.Dropout(0.5))\n",
    "dpt_model.add(layers.Dense(1, activation='sigmoid'))\n",
    "\n",
    "dpt_model.compile(optimizer='rmsprop',\n",
    "                  loss='binary_crossentropy',\n",
    "                  metrics=['acc'])"
   ]
  },
  {
   "cell_type": "code",
   "execution_count": null,
   "metadata": {},
   "outputs": [
    {
     "name": "stdout",
     "output_type": "stream",
     "text": [
      "Epoch 1/10\n",
      "49/49 [==============================] - 2s 46ms/step - loss: 0.5821 - acc: 0.6951 - val_loss: 0.4356 - val_acc: 0.8637\n",
      "Epoch 2/10\n",
      "36/49 [=====================>........] - ETA: 0s - loss: 0.4389 - acc: 0.8194"
     ]
    }
   ],
   "source": [
    "dpt_model_hist = dpt_model.fit(x_train, y_train,\n",
    "                               epochs=10,\n",
    "                               batch_size=512,\n",
    "                               validation_data=(x_test, y_test))"
   ]
  },
  {
   "cell_type": "code",
   "execution_count": null,
   "metadata": {},
   "outputs": [],
   "source": [
    "\n",
    "dpt_model_val_loss = dpt_model_hist.history['val_loss']\n",
    "\n",
    "plt.plot(epochs, original_val_loss, 'b+', label='Original model')\n",
    "plt.plot(epochs, dpt_model_val_loss, 'bo', label='Dropout-regularized model')\n",
    "plt.xlabel('Epochs')\n",
    "plt.ylabel('Validation loss')\n",
    "plt.legend()\n",
    "\n",
    "plt.show()"
   ]
  },
  {
   "cell_type": "code",
   "execution_count": null,
   "metadata": {},
   "outputs": [],
   "source": []
  }
 ],
 "metadata": {
  "kernelspec": {
   "display_name": "Python 3",
   "language": "python",
   "name": "python3"
  },
  "language_info": {
   "codemirror_mode": {
    "name": "ipython",
    "version": 3
   },
   "file_extension": ".py",
   "mimetype": "text/x-python",
   "name": "python",
   "nbconvert_exporter": "python",
   "pygments_lexer": "ipython3",
   "version": "3.7.0"
  }
 },
 "nbformat": 4,
 "nbformat_minor": 2
}
